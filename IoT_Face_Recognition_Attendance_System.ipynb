{
  "nbformat": 4,
  "nbformat_minor": 0,
  "metadata": {
    "colab": {
      "name": "IoT Face Recognition Attendance System.ipynb",
      "provenance": [],
      "authorship_tag": "ABX9TyNNCCj24ow082FilkUgfQKf",
      "include_colab_link": true
    },
    "kernelspec": {
      "name": "python3",
      "display_name": "Python 3"
    },
    "language_info": {
      "name": "python"
    },
    "accelerator": "GPU"
  },
  "cells": [
    {
      "cell_type": "markdown",
      "metadata": {
        "id": "view-in-github",
        "colab_type": "text"
      },
      "source": [
        "<a href=\"https://colab.research.google.com/github/oshmita26/Face-recognition-system/blob/main/IoT_Face_Recognition_Attendance_System.ipynb\" target=\"_parent\"><img src=\"https://colab.research.google.com/assets/colab-badge.svg\" alt=\"Open In Colab\"/></a>"
      ]
    },
    {
      "cell_type": "markdown",
      "source": [
        "# Making the necessary installations"
      ],
      "metadata": {
        "id": "ScWkvepzKWom"
      }
    },
    {
      "cell_type": "code",
      "execution_count": null,
      "metadata": {
        "colab": {
          "base_uri": "https://localhost:8080/"
        },
        "id": "Yey9Kh-fIv9_",
        "outputId": "35a221f1-7d56-4b4b-dd1a-0e447d6badf8"
      },
      "outputs": [
        {
          "output_type": "stream",
          "name": "stdout",
          "text": [
            "Requirement already satisfied: dlib in /usr/local/lib/python3.7/dist-packages (19.18.0)\n",
            "Collecting face_recognition\n",
            "  Downloading face_recognition-1.3.0-py2.py3-none-any.whl (15 kB)\n",
            "Requirement already satisfied: Pillow in /usr/local/lib/python3.7/dist-packages (from face_recognition) (7.1.2)\n",
            "Requirement already satisfied: Click>=6.0 in /usr/local/lib/python3.7/dist-packages (from face_recognition) (7.1.2)\n",
            "Requirement already satisfied: numpy in /usr/local/lib/python3.7/dist-packages (from face_recognition) (1.21.5)\n",
            "Requirement already satisfied: dlib>=19.7 in /usr/local/lib/python3.7/dist-packages (from face_recognition) (19.18.0)\n",
            "Collecting face-recognition-models>=0.3.0\n",
            "  Downloading face_recognition_models-0.3.0.tar.gz (100.1 MB)\n",
            "\u001b[K     |████████████████████████████████| 100.1 MB 21 kB/s \n",
            "\u001b[?25hBuilding wheels for collected packages: face-recognition-models\n",
            "  Building wheel for face-recognition-models (setup.py) ... \u001b[?25l\u001b[?25hdone\n",
            "  Created wheel for face-recognition-models: filename=face_recognition_models-0.3.0-py2.py3-none-any.whl size=100566186 sha256=a755768422785c86261e173da3af3ec84ada2dc47397dcfc5d9c5e1ed6d809f0\n",
            "  Stored in directory: /root/.cache/pip/wheels/d6/81/3c/884bcd5e1c120ff548d57c2ecc9ebf3281c9a6f7c0e7e7947a\n",
            "Successfully built face-recognition-models\n",
            "Installing collected packages: face-recognition-models, face-recognition\n",
            "Successfully installed face-recognition-1.3.0 face-recognition-models-0.3.0\n",
            "Requirement already satisfied: pip in /usr/local/lib/python3.7/dist-packages (21.1.3)\n",
            "Collecting pip\n",
            "  Downloading pip-22.0.4-py3-none-any.whl (2.1 MB)\n",
            "\u001b[K     |████████████████████████████████| 2.1 MB 5.3 MB/s \n",
            "\u001b[?25hInstalling collected packages: pip\n",
            "  Attempting uninstall: pip\n",
            "    Found existing installation: pip 21.1.3\n",
            "    Uninstalling pip-21.1.3:\n",
            "      Successfully uninstalled pip-21.1.3\n",
            "Successfully installed pip-22.0.4\n",
            "Requirement already satisfied: opencv-python in /usr/local/lib/python3.7/dist-packages (4.1.2.30)\n",
            "Requirement already satisfied: numpy>=1.14.5 in /usr/local/lib/python3.7/dist-packages (from opencv-python) (1.21.5)\n",
            "\u001b[33mWARNING: Running pip as the 'root' user can result in broken permissions and conflicting behaviour with the system package manager. It is recommended to use a virtual environment instead: https://pip.pypa.io/warnings/venv\u001b[0m\u001b[33m\n",
            "\u001b[0m"
          ]
        }
      ],
      "source": [
        "!pip install dlib\n",
        "!pip install face_recognition\n",
        "!pip install --upgrade pip\n",
        "!pip install opencv-python\n"
      ]
    },
    {
      "cell_type": "markdown",
      "source": [
        "# Importing Libraries"
      ],
      "metadata": {
        "id": "WyinMYTXKxW1"
      }
    },
    {
      "cell_type": "code",
      "source": [
        "import numpy as np\n",
        "import os\n",
        "import face_recognition\n",
        "from PIL import Image, ImageDraw, ImageFont"
      ],
      "metadata": {
        "id": "ubXqxVmGKcQN"
      },
      "execution_count": null,
      "outputs": []
    },
    {
      "cell_type": "markdown",
      "source": [
        "# Comparing of images and returning the percentage accuracy of matching"
      ],
      "metadata": {
        "id": "PjzQ9XnwMEL0"
      }
    },
    {
      "cell_type": "code",
      "source": [
        "image_of_bill = face_recognition.load_image_file('/Bill_Gates.jpg')\n",
        "bill_encoding = face_recognition.face_encodings(image_of_bill)[0]\n",
        "\n",
        "image_of_messi = face_recognition.load_image_file('/Lionel_Messi.jpg')\n",
        "messi_encoding = face_recognition.face_encodings(image_of_messi)[0]\n",
        "\n",
        "image_input = face_recognition.load_image_file('/oshmita_pic.jpg')\n",
        "input_encoding = face_recognition.face_encodings(image_input)[0]\n",
        "\n",
        "known_face_encodings = [bill_encoding, messi_encoding, input_encoding]\n",
        "\n",
        "known_face_names = [\"Bill Gates\", \"Lionel Messi\", \"Oshmita Sarkar\"]\n",
        "\n",
        "test_image = face_recognition.load_image_file('/oshmita_pic2.jpg')\n",
        "\n",
        "# Finding all the faces in test image\n",
        "face_locations = face_recognition.face_locations(test_image)\n",
        "face_encodings = face_recognition.face_encodings(test_image, face_locations)\n",
        "\n",
        "# Converting to pillow format\n",
        "pil_image = Image.fromarray(test_image)\n",
        "draw = ImageDraw.Draw(pil_image)\n",
        "\n",
        "# Looping through the face sin test image\n",
        "for (top, right, bottom, left), face_encoding in zip(face_locations, face_encodings):\n",
        "  matches = face_recognition.compare_faces(known_face_encodings, face_encoding)\n",
        "  \n",
        "  results3 = face_recognition.face_distance(known_face_encodings, face_encoding)\n",
        "  name = \"Unknown Person\"\n",
        "\n",
        "  print(matches)\n",
        "  res=0\n",
        "\n",
        "  for id,m in enumerate(matches):\n",
        "    if m:\n",
        "      res = id\n",
        "      break\n",
        "\n",
        "  if True in matches:\n",
        "    first_match_index = matches.index(True)\n",
        "    name = known_face_names[first_match_index]\n",
        "    \n",
        "    # Draw a rectangle around the face\n",
        "    draw.rectangle(((left, top), (right, bottom)), outline=(0,0,0))\n",
        "\n",
        "    # Draw label \n",
        "    text_width, text_height = draw.textsize(name)\n",
        "    draw.rectangle(((left, bottom-text_height-10), (right, bottom)), outline=(0,0,0), fill=(0,0,0))\n",
        "    draw.text((left+6, bottom-text_height-5), name + \": \" + str(round(((1-results3[res])*100),2)), fill=(255,255,255,255), align=\"center\")\n",
        "\n",
        "del draw\n",
        "\n",
        "# Display the image\n",
        "pil_image.show()\n",
        "\n",
        "# Saving the image\n",
        "pil_image.save(\"Identify.jpg\")"
      ],
      "metadata": {
        "id": "65gHIThFLW27",
        "colab": {
          "base_uri": "https://localhost:8080/"
        },
        "outputId": "b75dd1f8-af94-4317-d478-8b519fce0402"
      },
      "execution_count": null,
      "outputs": [
        {
          "output_type": "stream",
          "name": "stdout",
          "text": [
            "[False, False, True]\n"
          ]
        }
      ]
    },
    {
      "cell_type": "code",
      "source": [
        ""
      ],
      "metadata": {
        "id": "OE0QTaycTHeA"
      },
      "execution_count": null,
      "outputs": []
    }
  ]
}